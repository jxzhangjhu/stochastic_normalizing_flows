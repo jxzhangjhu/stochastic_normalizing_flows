{
 "cells": [
  {
   "cell_type": "markdown",
   "metadata": {},
   "source": [
    "Alanine dipeptide normalizing Flow\n",
    "------\n",
    "Normalizing Flow using RealNVP for sampling Alanine dipeptide structures"
   ]
  },
  {
   "cell_type": "code",
   "execution_count": 1,
   "metadata": {},
   "outputs": [],
   "source": [
    "import numpy as np\n",
    "import matplotlib.pyplot as plt\n",
    "from matplotlib import rcParams\n",
    "import mdtraj as md\n",
    "import matplotlib as mpl"
   ]
  },
  {
   "cell_type": "code",
   "execution_count": 2,
   "metadata": {},
   "outputs": [],
   "source": [
    "import torch"
   ]
  },
  {
   "cell_type": "code",
   "execution_count": 3,
   "metadata": {},
   "outputs": [
    {
     "name": "stderr",
     "output_type": "stream",
     "text": [
      "Using TensorFlow backend.\n"
     ]
    }
   ],
   "source": [
    "from IPython.display import SVG\n",
    "from keras.utils.vis_utils import model_to_dot"
   ]
  },
  {
   "cell_type": "code",
   "execution_count": 4,
   "metadata": {},
   "outputs": [],
   "source": [
    "from bgtorch.nn.flow.base import Flow\n",
    "from bgtorch.nn import DenseNet\n",
    "from bgtorch.nn.flow import (\n",
    "    SequentialFlow, \n",
    "    CouplingFlow, \n",
    "    AffineFlow, \n",
    "    SplitFlow,\n",
    "    MergeFlow,\n",
    "    InverseFlow, \n",
    "    SwapFlow\n",
    ")\n",
    "from bgtorch.nn.flow.transformer import AffineTransformer\n",
    "from bgtorch.distribution.energy import Energy\n",
    "from bgtorch.distribution.sampling import Sampler\n",
    "from bgtorch.distribution import NormalDistribution\n",
    "from bgtorch import BoltzmannGenerator\n",
    "from bgtorch.nn.training import KLTrainer"
   ]
  },
  {
   "cell_type": "code",
   "execution_count": 5,
   "metadata": {},
   "outputs": [],
   "source": [
    "rcParams.update({'font.size': 16})"
   ]
  },
  {
   "cell_type": "code",
   "execution_count": 6,
   "metadata": {},
   "outputs": [],
   "source": [
    "# Switch AUTORELOAD ON. Disable this when in production mode!\n",
    "%load_ext autoreload\n",
    "%autoreload 2"
   ]
  },
  {
   "cell_type": "markdown",
   "metadata": {},
   "source": [
    "Ala2\n",
    "---"
   ]
  },
  {
   "cell_type": "code",
   "execution_count": 7,
   "metadata": {},
   "outputs": [],
   "source": [
    "def plot_2ala_ramachandran(traj, ax=None, weights=None):\n",
    "    if ax==None:\n",
    "        ax = plt.gca()\n",
    "    \n",
    "\n",
    "    if isinstance(weights, np.ndarray):\n",
    "        ax.hist2d(md.compute_phi(traj)[1].reshape(-1), \n",
    "                  md.compute_psi(traj)[1].reshape(-1), \n",
    "                  bins=[np.linspace(-np.pi, np.pi, 64), np.linspace(-np.pi, np.pi, 64)],\n",
    "                  norm=mpl.colors.LogNorm(),\n",
    "                  weights=weights)\n",
    "    else:\n",
    "        ax.hist2d(md.compute_phi(traj)[1].reshape(-1), \n",
    "                  md.compute_psi(traj)[1].reshape(-1), \n",
    "                  bins=[np.linspace(-np.pi, np.pi, 64), np.linspace(-np.pi, np.pi, 64)],\n",
    "                  norm=mpl.colors.LogNorm())\n",
    "        \n",
    "    ax.set_xlim(-np.pi,np.pi)\n",
    "    ax.set_ylim(-np.pi,np.pi)\n",
    "    ax.set_xlabel(r'$\\phi$')\n",
    "    ax.set_ylabel(r'$\\psi$')    "
   ]
  },
  {
   "cell_type": "code",
   "execution_count": 8,
   "metadata": {},
   "outputs": [],
   "source": [
    "from openmmtools.testsystems import AlanineDipeptideVacuum"
   ]
  },
  {
   "cell_type": "code",
   "execution_count": 9,
   "metadata": {},
   "outputs": [],
   "source": [
    "ala2 = AlanineDipeptideVacuum(constraints=None)"
   ]
  },
  {
   "cell_type": "code",
   "execution_count": 10,
   "metadata": {},
   "outputs": [],
   "source": [
    "temperature = 1000\n",
    "n_atoms = ala2.mdtraj_topology.n_atoms"
   ]
  },
  {
   "cell_type": "code",
   "execution_count": 11,
   "metadata": {},
   "outputs": [],
   "source": [
    "from simtk import openmm, unit\n",
    "INTEGRATOR_ARGS = (temperature*unit.kelvin, \n",
    "                   1.0/unit.picoseconds, \n",
    "                   1.0*unit.femtoseconds)"
   ]
  },
  {
   "cell_type": "code",
   "execution_count": 14,
   "metadata": {},
   "outputs": [],
   "source": [
    "from bgtorch.distribution.energy.openmm import OpenMMEnergy, OpenMMEnergyBridge\n",
    "ala2_omm_energy_bridge = OpenMMEnergyBridge(ala2.system, unit.nanometers, \n",
    "                                            openmm_integrator=openmm.LangevinIntegrator, \n",
    "                                            openmm_integrator_args=INTEGRATOR_ARGS)\n",
    "\n",
    "ala2_omm_energy = OpenMMEnergy(3 * n_atoms, ala2_omm_energy_bridge)"
   ]
  },
  {
   "cell_type": "code",
   "execution_count": 15,
   "metadata": {},
   "outputs": [],
   "source": [
    "from bgtorch.utils.train import linlogcut\n",
    "\n",
    "class AugmentedEnergy(Energy):\n",
    "    def __init__(self, base_model, high_energy=None, max_energy=None):\n",
    "        super().__init__(2 * base_model.dim)\n",
    "        self.base_model = base_model\n",
    "        self.high_energy = high_energy\n",
    "        self.max_energy = max_energy\n",
    "    \n",
    "    def _energy(self, x, temperature=None):\n",
    "        U = self.base_model.energy(x[:, :self.base_model.dim])\n",
    "        if self.high_energy is not None or self.max_energy is not None:\n",
    "            U_mod = linlogcut(U, high_val=self.high_energy, max_val=self.max_energy, inplace=True)\n",
    "            #U_mod = _linlogcut(U, self.high_energy, self.max_energy)\n",
    "        else:\n",
    "            U_mod = U\n",
    "        \n",
    "        K = 0.5 * (x[:, self.base_model.dim:] ** 2).sum(axis=1, keepdim=True)            \n",
    "        return U_mod + K"
   ]
  },
  {
   "cell_type": "markdown",
   "metadata": {},
   "source": [
    "Load training data\n",
    "---"
   ]
  },
  {
   "cell_type": "code",
   "execution_count": 16,
   "metadata": {},
   "outputs": [],
   "source": [
    "ala2_pdb = md.load('./data/alanine-dipeptide.pdb').topology\n",
    "training_data_traj = md.load('./data/ala2_1000K_train.xtc', top=ala2_pdb)"
   ]
  },
  {
   "cell_type": "code",
   "execution_count": 18,
   "metadata": {},
   "outputs": [],
   "source": [
    "phi = md.compute_phi(training_data_traj)[1].reshape(-1)\n",
    "psi = md.compute_psi(training_data_traj)[1].reshape(-1)"
   ]
  },
  {
   "cell_type": "code",
   "execution_count": 23,
   "metadata": {},
   "outputs": [
    {
     "data": {
      "image/png": "[encoded data removed]",
      "text/plain": [
       "<matplotlib.figure.Figure at 0x1843b31b70>"
      ]
     },
     "metadata": {},
     "output_type": "display_data"
    }
   ],
   "source": [
    "plt.figure(figsize=(5, 5))\n",
    "plot_2ala_ramachandran(training_data_traj)"
   ]
  },
  {
   "cell_type": "code",
   "execution_count": 28,
   "metadata": {},
   "outputs": [],
   "source": [
    "training_data = training_data_traj.xyz.reshape((training_data_traj.xyz.shape[0], \n",
    "                                                3*training_data_traj.xyz.shape[1]))\n",
    "training_data = torch.tensor(training_data)\n",
    "training_data.requires_grad = True"
   ]
  },
  {
   "cell_type": "markdown",
   "metadata": {},
   "source": [
    "Internal Coordinates\n",
    "---"
   ]
  },
  {
   "cell_type": "code",
   "execution_count": 26,
   "metadata": {
    "scrolled": false
   },
   "outputs": [
    {
     "name": "stdout",
     "output_type": "stream",
     "text": [
      "ACE1-H1\n",
      "ACE1-CH3\n",
      "ACE1-H2\n",
      "ACE1-H3\n",
      "ACE1-C\n",
      "ACE1-O\n",
      "ALA2-N\n",
      "ALA2-H\n",
      "ALA2-CA\n",
      "ALA2-HA\n",
      "ALA2-CB\n",
      "ALA2-HB1\n",
      "ALA2-HB2\n",
      "ALA2-HB3\n",
      "ALA2-C\n",
      "ALA2-O\n",
      "NME3-N\n",
      "NME3-H\n",
      "NME3-C\n",
      "NME3-H1\n",
      "NME3-H2\n",
      "NME3-H3\n"
     ]
    }
   ],
   "source": [
    "for atom in ala2_pdb.atoms:\n",
    "    print(atom)"
   ]
  },
  {
   "cell_type": "code",
   "execution_count": 27,
   "metadata": {},
   "outputs": [],
   "source": [
    "rigid_block = np.array([6, 8, 9, 10, 14])\n",
    "Z = np.array([[0, 1, 4, 6],\n",
    "              [1, 4, 6, 8],\n",
    "              [2, 1, 4, 0],\n",
    "              [3, 1, 4, 0],\n",
    "              [4, 6, 8, 14],\n",
    "              [5, 4, 6, 8],\n",
    "              [7, 6, 8, 4],\n",
    "              [11, 10, 8, 6],\n",
    "              [12, 10, 8, 11],\n",
    "              [13, 10, 8, 11],\n",
    "              [15, 14, 8, 16],\n",
    "              [16, 14, 8, 6],\n",
    "              [17, 16, 14, 15],\n",
    "              [18, 16, 14, 8],\n",
    "              [19, 18, 16, 14],\n",
    "              [20, 18, 16, 19],\n",
    "              [21, 18, 16, 19]])"
   ]
  },
  {
   "cell_type": "code",
   "execution_count": 36,
   "metadata": {},
   "outputs": [],
   "source": [
    "from bgtorch.nn.flow.crd_transform.ic import MixedCoordinateTransform\n",
    "mct = MixedCoordinateTransform(rigid_block, Z, X0=training_data, remove_dof=6)"
   ]
  },
  {
   "cell_type": "markdown",
   "metadata": {},
   "source": [
    "Boltzmann Generator\n",
    "-------"
   ]
  },
  {
   "cell_type": "code",
   "execution_count": 29,
   "metadata": {},
   "outputs": [],
   "source": [
    "def RNVP(shift_nhidden, scale_nhidden,\n",
    "         shift_activation=torch.nn.ReLU(), scale_activation=torch.nn.Tanh(), \n",
    "         shift_weight_scale=1.0, scale_weight_scale=1.0, \n",
    "         shift_bias_scale=0.0, scale_bias_scale=0.0, init_downscale=1.0):\n",
    "    \n",
    "    shift_transformation = None\n",
    "    if shift_nhidden is not None:\n",
    "        shift_transformation=DenseNet(shift_nhidden, activation=shift_activation, \n",
    "                                      weight_scale=shift_weight_scale, bias_scale=shift_bias_scale)            \n",
    "    scale_transformation = None\n",
    "    if scale_nhidden is not None:\n",
    "        scale_transformation=DenseNet(scale_nhidden, activation=scale_activation, \n",
    "                                      weight_scale=scale_weight_scale, bias_scale=scale_bias_scale)\n",
    "    transformer = AffineTransformer(shift_transformation=shift_transformation,\n",
    "                                    scale_transformation=scale_transformation,\n",
    "                                    init_downscale=init_downscale) \n",
    "    return CouplingFlow(transformer)"
   ]
  },
  {
   "cell_type": "code",
   "execution_count": 30,
   "metadata": {},
   "outputs": [],
   "source": [
    "class WrapLeft(Flow):\n",
    "    def __init__(self, leftflow):\n",
    "        super().__init__()\n",
    "        self.leftflow = leftflow\n",
    "\n",
    "    def _forward(self, x1, x2, **kwargs):\n",
    "        y1, dlogp = self.leftflow(x1)\n",
    "        return y1, x2, dlogp\n",
    "    \n",
    "    def _inverse(self, x1, x2, **kwargs):\n",
    "        y1, dlogp = self.leftflow(x1, inverse=True)\n",
    "        return y1, x2, dlogp\n"
   ]
  },
  {
   "cell_type": "code",
   "execution_count": 31,
   "metadata": {},
   "outputs": [],
   "source": [
    "def build_XV_RNVP(hamiltonian_prior, hamiltonian_target, crd_transform, \n",
    "                  n_transform, shift_nhidden, scale_nhidden):\n",
    "    # here we aggregate all layers of the flow\n",
    "    layers = []\n",
    "\n",
    "    dim_x = hamiltonian_target.dim // 2\n",
    "    dim_v = dim_x\n",
    "    dim_ic = dim_x - 6\n",
    "    \n",
    "    # split\n",
    "    layers.append(SplitFlow(dim_ic))        \n",
    "        \n",
    "    # RealNVP block\n",
    "    for i in range(n_transform):\n",
    "        # ic(x) -> v\n",
    "        layers.append(RNVP([dim_ic] + shift_nhidden + [dim_v], [dim_ic] + scale_nhidden + [dim_v], \n",
    "                      shift_activation=torch.nn.ReLU(), scale_activation=torch.nn.ReLU()))\n",
    "        layers.append(SwapFlow())\n",
    "        # v -> ic(x)\n",
    "        layers.append(RNVP([dim_v] + shift_nhidden + [dim_ic], [dim_v] + scale_nhidden + [dim_ic], \n",
    "                      shift_activation=torch.nn.ReLU(), scale_activation=torch.nn.ReLU()))\n",
    "        layers.append(SwapFlow())\n",
    "\n",
    "    # add crd transform\n",
    "    layers.append(WrapLeft(crd_transform))\n",
    "            \n",
    "    # merge\n",
    "    layers.append(MergeFlow(dim_x))\n",
    "\n",
    "    # now define the flow as a sequence of all operations stored in layers\n",
    "    flexflow = SequentialFlow(layers)\n",
    "    \n",
    "    bg = BoltzmannGenerator(hamiltonian_prior, flexflow, hamiltonian_target)\n",
    "    \n",
    "    return bg    "
   ]
  },
  {
   "cell_type": "code",
   "execution_count": 32,
   "metadata": {},
   "outputs": [],
   "source": [
    "class CenteredNormalPrior(Energy, Sampler):\n",
    "    \"\"\" 2 particles in 1d \"\"\"\n",
    "    def __init__(self, nparticles, ndim=3, center_x=True, center_v=True):\n",
    "        super().__init__(2*nparticles*ndim)\n",
    "        self.nparticles = nparticles\n",
    "        self.ndim = ndim\n",
    "        self.center_x = center_x\n",
    "        self.center_v = center_v\n",
    "    \n",
    "    def _energy(self, x):\n",
    "        return 0.5 * (x ** 2).sum(dim=1, keepdim=True)\n",
    "\n",
    "    def sample(self, n_samples, temperature=1.):\n",
    "        # positions\n",
    "        x = torch.Tensor(n_samples, self.nparticles, self.ndim).normal_()\n",
    "        if self.center_x:\n",
    "            xc = (x - x.mean(dim=1, keepdim=True)).reshape(n_samples, self.nparticles * self.ndim)\n",
    "        else:\n",
    "            xc = x.reshape(n_samples, self.nparticles * self.ndim)\n",
    "        # velocities\n",
    "        v = torch.Tensor(n_samples, self.nparticles, self.ndim).normal_()\n",
    "        if self.center_v:\n",
    "            vc = (v - v.mean(dim=1, keepdim=True)).reshape(n_samples, self.nparticles * self.ndim)\n",
    "        else:\n",
    "            vc = v.reshape(n_samples, self.nparticles * self.ndim)\n",
    "        # merge\n",
    "        xvc = torch.cat([xc, vc], dim=1)\n",
    "        return xvc"
   ]
  },
  {
   "cell_type": "code",
   "execution_count": 33,
   "metadata": {},
   "outputs": [],
   "source": [
    "dim_x = 66\n",
    "dim_ic = 60"
   ]
  },
  {
   "cell_type": "code",
   "execution_count": 34,
   "metadata": {},
   "outputs": [],
   "source": [
    "hamiltonian_prior = NormalDistribution(dim_ic + dim_x)\n",
    "hamiltonian_target = AugmentedEnergy(ala2_omm_energy, high_energy=500, max_energy=10000)"
   ]
  },
  {
   "cell_type": "code",
   "execution_count": 37,
   "metadata": {},
   "outputs": [],
   "source": [
    "bg = build_XV_RNVP(hamiltonian_prior, hamiltonian_target, mct, \n",
    "                   5, [128, 128, 128], [128, 128, 128])"
   ]
  },
  {
   "cell_type": "code",
   "execution_count": 38,
   "metadata": {},
   "outputs": [],
   "source": [
    "trainer = KLTrainer(bg, train_likelihood=True, train_energy=True,\n",
    "                    optim = torch.optim.Adam(bg.parameters(), lr=1e-3))"
   ]
  },
  {
   "cell_type": "code",
   "execution_count": 39,
   "metadata": {},
   "outputs": [],
   "source": [
    "batchsize = 256"
   ]
  },
  {
   "cell_type": "code",
   "execution_count": 40,
   "metadata": {},
   "outputs": [],
   "source": [
    "# add velocities\n",
    "xv_aligned = torch.cat([training_data, torch.zeros_like(training_data).normal_()], dim=1)"
   ]
  },
  {
   "cell_type": "code",
   "execution_count": 41,
   "metadata": {
    "scrolled": true
   },
   "outputs": [
    {
     "name": "stdout",
     "output_type": "stream",
     "text": [
      "1\tNLL: -54.2732\tKLL: 228.3111\t\n",
      "21\tNLL: -56.7074\tKLL: 218.1371\t\n",
      "41\tNLL: -57.2294\tKLL: 231.5903\t\n",
      "61\tNLL: -56.5638\tKLL: 240.9319\t\n",
      "81\tNLL: -57.5110\tKLL: 221.1468\t\n",
      "101\tNLL: -57.8198\tKLL: 231.6376\t\n",
      "121\tNLL: -57.8288\tKLL: 227.4171\t\n",
      "141\tNLL: -56.7296\tKLL: 216.9637\t\n",
      "161\tNLL: -57.4042\tKLL: 221.5681\t\n",
      "181\tNLL: -59.1010\tKLL: 209.0111\t\n",
      "201\tNLL: -57.9445\tKLL: 218.1577\t\n",
      "221\tNLL: -57.3758\tKLL: 206.7437\t\n",
      "241\tNLL: -58.3927\tKLL: 204.3618\t\n",
      "261\tNLL: -59.5990\tKLL: 208.0047\t\n",
      "281\tNLL: -59.6057\tKLL: 219.5818\t\n",
      "301\tNLL: -58.8725\tKLL: 207.3417\t\n",
      "321\tNLL: -58.4459\tKLL: 216.3021\t\n",
      "341\tNLL: -59.0395\tKLL: 216.5821\t\n",
      "361\tNLL: -59.4179\tKLL: 202.6763\t\n",
      "381\tNLL: -59.0217\tKLL: 203.3714\t\n",
      "401\tNLL: -59.0475\tKLL: 204.4875\t\n",
      "421\tNLL: -58.9682\tKLL: 199.2023\t\n",
      "441\tNLL: -59.0115\tKLL: 209.4550\t\n",
      "461\tNLL: -59.8978\tKLL: 210.3892\t\n",
      "481\tNLL: -59.5831\tKLL: 202.5721\t\n",
      "501\tNLL: -59.4594\tKLL: 200.1960\t\n",
      "521\tNLL: -60.2990\tKLL: 195.7363\t\n",
      "541\tNLL: -59.6334\tKLL: 199.4119\t\n",
      "561\tNLL: -59.3505\tKLL: 201.3289\t\n",
      "581\tNLL: -60.4404\tKLL: 208.3080\t\n",
      "601\tNLL: -60.1512\tKLL: 197.4405\t\n",
      "621\tNLL: -60.5440\tKLL: 203.3889\t\n",
      "641\tNLL: -59.7839\tKLL: 197.3724\t\n",
      "661\tNLL: -60.0739\tKLL: 196.3294\t\n",
      "681\tNLL: -59.8904\tKLL: 191.9230\t\n",
      "701\tNLL: -61.2192\tKLL: 196.1466\t\n",
      "721\tNLL: -60.7955\tKLL: 202.1048\t\n",
      "741\tNLL: -59.5463\tKLL: 205.8044\t\n",
      "761\tNLL: -61.0785\tKLL: 204.4006\t\n",
      "781\tNLL: -59.1069\tKLL: 199.3847\t\n",
      "801\tNLL: -60.6395\tKLL: 199.5965\t\n",
      "821\tNLL: -61.5680\tKLL: 197.2731\t\n",
      "841\tNLL: -60.8359\tKLL: 187.3168\t\n",
      "861\tNLL: -60.8327\tKLL: 186.9758\t\n",
      "881\tNLL: -60.3593\tKLL: 195.9911\t\n",
      "901\tNLL: -61.7459\tKLL: 188.4561\t\n",
      "921\tNLL: -60.8913\tKLL: 185.2533\t\n",
      "941\tNLL: -61.3168\tKLL: 192.7509\t\n",
      "961\tNLL: -60.8424\tKLL: 199.1609\t\n",
      "981\tNLL: -60.7408\tKLL: 200.3898\t\n"
     ]
    }
   ],
   "source": [
    "trainer.train(1000, data=xv_aligned, batchsize=batchsize, w_likelihood=1, w_energy=0, n_print=20)"
   ]
  },
  {
   "cell_type": "markdown",
   "metadata": {},
   "source": [
    "Evaluate\n",
    "----"
   ]
  },
  {
   "cell_type": "code",
   "execution_count": 42,
   "metadata": {},
   "outputs": [
    {
     "data": {
      "image/png": "[encoded data removed]",
      "text/plain": [
       "<matplotlib.figure.Figure at 0x417c5d198>"
      ]
     },
     "metadata": {},
     "output_type": "display_data"
    }
   ],
   "source": [
    "fig, axes = plt.subplots(nrows=2, ncols=1, sharex=True, figsize=(10, 5))\n",
    "loss_names, x, ys = trainer.losses()\n",
    "for (ax, loss_name, y) in zip(axes, loss_names, ys):\n",
    "    ax.plot(x, y)\n",
    "    ax.set_ylabel(loss_name)\n",
    "    ax.set_xlabel('Iterations')"
   ]
  },
  {
   "cell_type": "code",
   "execution_count": 43,
   "metadata": {},
   "outputs": [],
   "source": [
    "# sample\n",
    "n_samples = 20000\n",
    "z = hamiltonian_prior.sample(n_samples)\n",
    "xgen, dW = bg.flow(z, temperature=1.0)"
   ]
  },
  {
   "cell_type": "code",
   "execution_count": 44,
   "metadata": {},
   "outputs": [],
   "source": [
    "import mdtraj\n",
    "\n",
    "torsions_train = mdtraj.compute_dihedrals(training_data_traj, mct.Z_indices)\n",
    "\n",
    "gen_data_traj = mdtraj.Trajectory(xgen[:, :66].detach().reshape(-1, 22, 3).numpy(), ala2_pdb)\n",
    "torsions_gen = mdtraj.compute_dihedrals(gen_data_traj, mct.Z_indices)"
   ]
  },
  {
   "cell_type": "code",
   "execution_count": 45,
   "metadata": {},
   "outputs": [],
   "source": [
    "def periodic_convolution(x, kernel):\n",
    "    x_padded = np.concatenate([x, x, x])\n",
    "    y_padded = np.convolve(x_padded, kernel, mode='same')\n",
    "    return y_padded[x.size:-x.size]"
   ]
  },
  {
   "cell_type": "code",
   "execution_count": 46,
   "metadata": {},
   "outputs": [],
   "source": [
    "torsion_hists_train = []\n",
    "torsion_hists_gen = []\n",
    "xticks = None\n",
    "\n",
    "for i in range(torsions_train.shape[1]):\n",
    "    htrain, e = np.histogram(torsions_train[:, i], 50, range=(-np.pi, np.pi), density=True);\n",
    "    xticks = 0.5 * (e[1:] + e[:-1])\n",
    "    hgen, _ = np.histogram(torsions_gen[:, i], 50, range=(-np.pi, np.pi), density=True);\n",
    "\n",
    "    htrain = periodic_convolution(htrain, [0.25, 0.5, 1.0, 0.5, 0.25])\n",
    "    hgen = periodic_convolution(hgen, [0.25, 0.5, 1.0, 0.5, 0.25])\n",
    "\n",
    "    torsion_hists_train.append(htrain)\n",
    "    torsion_hists_gen.append(hgen)"
   ]
  },
  {
   "cell_type": "code",
   "execution_count": 47,
   "metadata": {},
   "outputs": [],
   "source": [
    "torsions_simple = [4, 5, 6, 7, 8]\n",
    "torsions_complex = [0, 1, 2, 10, 12]"
   ]
  },
  {
   "cell_type": "code",
   "execution_count": 51,
   "metadata": {},
   "outputs": [
    {
     "data": {
      "text/plain": [
       "Text(-2.84159,0.9,'RNVP')"
      ]
     },
     "execution_count": 51,
     "metadata": {},
     "output_type": "execute_result"
    },
    {
     "data": {
      "image/png": "[encoded data removed]",
      "text/plain": [
       "<matplotlib.figure.Figure at 0x18c38e24a8>"
      ]
     },
     "metadata": {},
     "output_type": "display_data"
    }
   ],
   "source": [
    "#fig, axes = plt.subplots(nrows=2, ncols=5, sharex=True, figsize=(15, 5))\n",
    "fig, axes = plt.subplots(nrows=1, ncols=5, sharey=True, sharex=True, figsize=(15, 3))\n",
    "axes = axes.reshape((1, 5))\n",
    "fig.subplots_adjust(hspace=0.05, wspace=0.15)\n",
    "#for row, torsion_index in zip([0, 1], [torsions_simple, torsions_complex]):\n",
    "for row, torsion_index in zip([0], [torsions_complex]):\n",
    "    for i, ax in enumerate(axes[row]):\n",
    "        ax.plot(xticks, torsion_hists_train[torsion_index[i]], color='grey', linewidth=5)\n",
    "        ax.plot(xticks, torsion_hists_gen[torsion_index[i]], color='blue', linewidth=3)\n",
    "        ax.set_yticks([])\n",
    "        ax.set_xlim(-np.pi, np.pi)\n",
    "        if row == 0:\n",
    "            ax.set_ylim(0, 5)\n",
    "        if row == 1:\n",
    "            ax.set_ylim(0, 1.5)\n",
    "        if row == 1:\n",
    "            ax.set_xticks((-np.pi,0, np.pi))\n",
    "            ax.set_xticklabels(('$-\\pi$', 0,'$\\pi$'))\n",
    "    axes[-1,-1].set_yticks([])\n",
    "axes[0, 0].set_ylim(0, 1.5)\n",
    "axes[0, 0].text(0, 1.35, '$\\phi$')\n",
    "axes[0, 1].text(0, 1.35, '$\\gamma_1$')\n",
    "axes[0, 2].text(0, 1.35, '$\\psi$')\n",
    "axes[0, 3].text(0, 1.35, '$\\gamma_2$')\n",
    "axes[0, 4].text(0, 1.35, '$\\gamma_3$')\n",
    "axes[0, 0].set_ylabel('density')\n",
    "#axes[1, 0].set_ylabel('density')\n",
    "axes[0, -1].text(-np.pi+0.3, 1.1, 'Target', color='grey')\n",
    "axes[0, -1].text(-np.pi+0.3, 0.9, 'RNVP', color='blue')"
   ]
  },
  {
   "cell_type": "code",
   "execution_count": 52,
   "metadata": {},
   "outputs": [
    {
     "name": "stdout",
     "output_type": "stream",
     "text": [
      "1.71\n",
      "3.95\n",
      "0.81\n",
      "0.72\n",
      "0.87\n"
     ]
    }
   ],
   "source": [
    "eps = 1e-5\n",
    "for i in torsions_complex:\n",
    "    KL_NF = np.sum(torsion_hists_train[i] * np.log((torsion_hists_train[i]+eps) / (torsion_hists_gen[i]+eps)))\n",
    "    print(\"{:1.2f}\".format(KL_NF))"
   ]
  },
  {
   "cell_type": "code",
   "execution_count": null,
   "metadata": {},
   "outputs": [],
   "source": []
  }
 ],
 "metadata": {
  "anaconda-cloud": {},
  "kernelspec": {
   "display_name": "Python 3",
   "language": "python",
   "name": "python3"
  },
  "language_info": {
   "codemirror_mode": {
    "name": "ipython",
    "version": 3
   },
   "file_extension": ".py",
   "mimetype": "text/x-python",
   "name": "python",
   "nbconvert_exporter": "python",
   "pygments_lexer": "ipython3",
   "version": "3.7.6"
  }
 },
 "nbformat": 4,
 "nbformat_minor": 2
}
