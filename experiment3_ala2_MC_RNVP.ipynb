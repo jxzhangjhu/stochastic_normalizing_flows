{
 "cells": [
  {
   "cell_type": "markdown",
   "metadata": {},
   "source": [
    "Alanine dipeptide Boltzmann Generator\n",
    "------\n",
    "A simple example of how to train a Boltzmann generator on a small system by computing forces and energies in OpenMM"
   ]
  },
  {
   "cell_type": "code",
   "execution_count": 1,
   "metadata": {},
   "outputs": [],
   "source": [
    "import numpy as np\n",
    "import matplotlib.pyplot as plt\n",
    "from matplotlib import rcParams\n",
    "import mdtraj as md\n",
    "import matplotlib as mpl"
   ]
  },
  {
   "cell_type": "code",
   "execution_count": 2,
   "metadata": {},
   "outputs": [],
   "source": [
    "import torch"
   ]
  },
  {
   "cell_type": "code",
   "execution_count": 3,
   "metadata": {},
   "outputs": [],
   "source": [
    "from IPython.display import SVG"
   ]
  },
  {
   "cell_type": "code",
   "execution_count": 4,
   "metadata": {},
   "outputs": [],
   "source": [
    "from bgtorch.nn.flow.base import Flow\n",
    "from bgtorch.nn import DenseNet\n",
    "from bgtorch.nn.flow import (\n",
    "    SequentialFlow, \n",
    "    CouplingFlow, \n",
    "    AffineFlow, \n",
    "    SplitFlow,\n",
    "    MergeFlow,\n",
    "    InverseFlow, \n",
    "    SwapFlow\n",
    ")\n",
    "from bgtorch.nn.flow.transformer import AffineTransformer\n",
    "from bgtorch.distribution.energy import Energy\n",
    "from bgtorch.distribution.sampling import Sampler\n",
    "from bgtorch.distribution import NormalDistribution\n",
    "from bgtorch import BoltzmannGenerator\n",
    "from bgtorch.nn.training import KLTrainer"
   ]
  },
  {
   "cell_type": "code",
   "execution_count": 5,
   "metadata": {},
   "outputs": [],
   "source": [
    "from bgtorch.nn.flow.stochastic import MetropolisMCFlow, LangevinFlow"
   ]
  },
  {
   "cell_type": "code",
   "execution_count": 6,
   "metadata": {},
   "outputs": [],
   "source": [
    "rcParams.update({'font.size': 16})"
   ]
  },
  {
   "cell_type": "code",
   "execution_count": 7,
   "metadata": {},
   "outputs": [],
   "source": [
    "# Switch AUTORELOAD ON. Disable this when in production mode!\n",
    "%load_ext autoreload\n",
    "%autoreload 2"
   ]
  },
  {
   "cell_type": "markdown",
   "metadata": {},
   "source": [
    "Ala2\n",
    "---"
   ]
  },
  {
   "cell_type": "code",
   "execution_count": 8,
   "metadata": {},
   "outputs": [],
   "source": [
    "def plot_2ala_ramachandran(traj, ax=None, weights=None):\n",
    "    if ax==None:\n",
    "        ax = plt.gca()\n",
    "    \n",
    "\n",
    "    if isinstance(weights, np.ndarray):\n",
    "        ax.hist2d(md.compute_phi(traj)[1].reshape(-1), \n",
    "                  md.compute_psi(traj)[1].reshape(-1), \n",
    "                  bins=[np.linspace(-np.pi, np.pi, 64), np.linspace(-np.pi, np.pi, 64)],\n",
    "                  norm=mpl.colors.LogNorm(),\n",
    "                  weights=weights)\n",
    "    else:\n",
    "        ax.hist2d(md.compute_phi(traj)[1].reshape(-1), \n",
    "                  md.compute_psi(traj)[1].reshape(-1), \n",
    "                  bins=[np.linspace(-np.pi, np.pi, 64), np.linspace(-np.pi, np.pi, 64)],\n",
    "                  norm=mpl.colors.LogNorm())\n",
    "        \n",
    "    ax.set_xlim(-np.pi,np.pi)\n",
    "    ax.set_ylim(-np.pi,np.pi)\n",
    "    ax.set_xlabel(r'$\\phi$')\n",
    "    ax.set_ylabel(r'$\\psi$')    "
   ]
  },
  {
   "cell_type": "code",
   "execution_count": 9,
   "metadata": {},
   "outputs": [],
   "source": [
    "from openmmtools.testsystems import AlanineDipeptideVacuum"
   ]
  },
  {
   "cell_type": "code",
   "execution_count": 10,
   "metadata": {},
   "outputs": [],
   "source": [
    "ala2 = AlanineDipeptideVacuum(constraints=None)"
   ]
  },
  {
   "cell_type": "code",
   "execution_count": 11,
   "metadata": {},
   "outputs": [],
   "source": [
    "temperature = 1000\n",
    "n_atoms = ala2.mdtraj_topology.n_atoms"
   ]
  },
  {
   "cell_type": "code",
   "execution_count": 12,
   "metadata": {},
   "outputs": [],
   "source": [
    "from simtk import openmm, unit\n",
    "INTEGRATOR_ARGS = (temperature*unit.kelvin, \n",
    "                   1.0/unit.picoseconds, \n",
    "                   1.0*unit.femtoseconds)"
   ]
  },
  {
   "cell_type": "code",
   "execution_count": 13,
   "metadata": {},
   "outputs": [],
   "source": [
    "from bgtorch.distribution.energy.openmm import OpenMMEnergy, OpenMMEnergyBridge\n",
    "ala2_omm_energy_bridge = OpenMMEnergyBridge(ala2.system, unit.nanometers, \n",
    "                                            openmm_integrator=openmm.LangevinIntegrator, \n",
    "                                            openmm_integrator_args=INTEGRATOR_ARGS)\n",
    "\n",
    "ala2_omm_energy = OpenMMEnergy(3 * n_atoms, ala2_omm_energy_bridge)"
   ]
  },
  {
   "cell_type": "code",
   "execution_count": 14,
   "metadata": {},
   "outputs": [],
   "source": [
    "from bgtorch.utils.train import linlogcut\n",
    "\n",
    "class RegularizedEnergy(Energy):\n",
    "    def __init__(self, energy_model, high_energy, max_energy):\n",
    "        super().__init__(energy_model.dim)\n",
    "        self.energy_model = energy_model\n",
    "        self.high_energy = high_energy\n",
    "        self.max_energy = max_energy            \n",
    "\n",
    "    def _energy(self, x, temperature=None):\n",
    "        U = self.energy_model.energy(x)\n",
    "        U_reg = linlogcut(U, high_val=self.high_energy, max_val=self.max_energy)\n",
    "        return U_reg\n",
    "    \n",
    "class AugmentedEnergy(Energy):\n",
    "    def __init__(self, base_model, dim_augment=None):\n",
    "        if dim_augment is None:\n",
    "            dim_augment = base_model.dim\n",
    "        super().__init__(base_model.dim + dim_augment)\n",
    "        self.base_model = base_model\n",
    "    \n",
    "    def _energy(self, x, temperature=None):\n",
    "        U = self.base_model.energy(x[:, :self.base_model.dim])\n",
    "        K = 0.5 * (x[:, self.base_model.dim:] ** 2).sum(axis=1, keepdim=True)            \n",
    "        return U + K"
   ]
  },
  {
   "cell_type": "markdown",
   "metadata": {},
   "source": [
    "Load training data\n",
    "---"
   ]
  },
  {
   "cell_type": "code",
   "execution_count": 15,
   "metadata": {},
   "outputs": [],
   "source": [
    "ala2_pdb = md.load('./data/alanine-dipeptide.pdb').topology\n",
    "training_data_traj = md.load('./data/ala2_1000K_train.xtc', top=ala2_pdb)"
   ]
  },
  {
   "cell_type": "code",
   "execution_count": 16,
   "metadata": {},
   "outputs": [],
   "source": [
    "phi = md.compute_phi(training_data_traj)[1].reshape(-1)\n",
    "psi = md.compute_psi(training_data_traj)[1].reshape(-1)"
   ]
  },
  {
   "cell_type": "code",
   "execution_count": 17,
   "metadata": {},
   "outputs": [
    {
     "data": {
      "image/png": "[encoded data removed]",
      "text/plain": [
       "<matplotlib.figure.Figure at 0x18292bf2b0>"
      ]
     },
     "metadata": {},
     "output_type": "display_data"
    }
   ],
   "source": [
    "plt.figure(figsize=(5, 5))\n",
    "plot_2ala_ramachandran(training_data_traj)"
   ]
  },
  {
   "cell_type": "code",
   "execution_count": 18,
   "metadata": {},
   "outputs": [],
   "source": [
    "training_data = training_data_traj.xyz.reshape((training_data_traj.xyz.shape[0], \n",
    "                                                3*training_data_traj.xyz.shape[1]))\n",
    "training_data = torch.tensor(training_data)\n",
    "training_data.requires_grad = True"
   ]
  },
  {
   "cell_type": "markdown",
   "metadata": {},
   "source": [
    "Internal Coordinates\n",
    "---"
   ]
  },
  {
   "cell_type": "code",
   "execution_count": 19,
   "metadata": {
    "scrolled": false
   },
   "outputs": [
    {
     "name": "stdout",
     "output_type": "stream",
     "text": [
      "ACE1-H1\n",
      "ACE1-CH3\n",
      "ACE1-H2\n",
      "ACE1-H3\n",
      "ACE1-C\n",
      "ACE1-O\n",
      "ALA2-N\n",
      "ALA2-H\n",
      "ALA2-CA\n",
      "ALA2-HA\n",
      "ALA2-CB\n",
      "ALA2-HB1\n",
      "ALA2-HB2\n",
      "ALA2-HB3\n",
      "ALA2-C\n",
      "ALA2-O\n",
      "NME3-N\n",
      "NME3-H\n",
      "NME3-C\n",
      "NME3-H1\n",
      "NME3-H2\n",
      "NME3-H3\n"
     ]
    }
   ],
   "source": [
    "for atom in ala2_pdb.atoms:\n",
    "    print(atom)"
   ]
  },
  {
   "cell_type": "code",
   "execution_count": 20,
   "metadata": {},
   "outputs": [],
   "source": [
    "rigid_block = np.array([6, 8, 9, 10, 14])\n",
    "Z = np.array([[0, 1, 4, 6],\n",
    "              [1, 4, 6, 8],\n",
    "              [2, 1, 4, 0],\n",
    "              [3, 1, 4, 0],\n",
    "              [4, 6, 8, 14],\n",
    "              [5, 4, 6, 8],\n",
    "              [7, 6, 8, 4],\n",
    "              [11, 10, 8, 6],\n",
    "              [12, 10, 8, 11],\n",
    "              [13, 10, 8, 11],\n",
    "              [15, 14, 8, 16],\n",
    "              [16, 14, 8, 6],\n",
    "              [17, 16, 14, 15],\n",
    "              [18, 16, 14, 8],\n",
    "              [19, 18, 16, 14],\n",
    "              [20, 18, 16, 19],\n",
    "              [21, 18, 16, 19]])"
   ]
  },
  {
   "cell_type": "code",
   "execution_count": 21,
   "metadata": {},
   "outputs": [],
   "source": [
    "from bgtorch.nn.flow.crd_transform.ic import MixedCoordinateTransform\n",
    "mct = MixedCoordinateTransform(rigid_block, Z, X0=training_data, remove_dof=6)"
   ]
  },
  {
   "cell_type": "markdown",
   "metadata": {},
   "source": [
    "Stochastic Flows\n",
    "----"
   ]
  },
  {
   "cell_type": "code",
   "execution_count": 22,
   "metadata": {},
   "outputs": [],
   "source": [
    "class ICEnergy(object):\n",
    "    def __init__(self, crd_transform, molecular_energy, use_jacobian=False):\n",
    "        \"\"\" Single flow layer that does a BD step \"\"\"\n",
    "        self.crd_transform = crd_transform\n",
    "        self.molecular_energy = molecular_energy\n",
    "        self.use_jacobian = use_jacobian\n",
    "\n",
    "    def energy(self, ics):\n",
    "        xyz, dlogp = self.crd_transform(ics)  # evaluate in flow direction\n",
    "        E = self.molecular_energy.energy(xyz) + self.crd_transform.periodic_angle_loss\n",
    "        if self.use_jacobian:\n",
    "            E = E - dlogp\n",
    "        return E\n",
    "\n",
    "    def force(self, ics):\n",
    "        xyz, dlogp = self.crd_transform(ics)  # evaluate in flow direction\n",
    "        E = self.molecular_energy.energy(xyz) + self.crd_transform.periodic_angle_loss\n",
    "        if self.use_jacobian:\n",
    "            E = E - dlogp\n",
    "        F = -torch.autograd.grad(E.sum(), ics)[0]\n",
    "        return F"
   ]
  },
  {
   "cell_type": "code",
   "execution_count": 23,
   "metadata": {},
   "outputs": [],
   "source": [
    "class InterpolatedEnergy(object):\n",
    "    def __init__(self, energy_model_0, energy_model_1, lambda_):\n",
    "        \"\"\" Single flow layer that does a BD step \"\"\"\n",
    "        self.energy_model_0 = energy_model_0\n",
    "        self.energy_model_1 = energy_model_1\n",
    "        self.lambda_ = lambda_\n",
    "\n",
    "    def energy(self, X):\n",
    "        return (1.0-self.lambda_) * self.energy_model_0.energy(X) + self.lambda_ * self.energy_model_1.energy(X)\n",
    "\n",
    "    def force(self, X):\n",
    "        return (1.0-self.lambda_) * self.energy_model_0.force(X) + self.lambda_ * self.energy_model_1.force(X)"
   ]
  },
  {
   "cell_type": "markdown",
   "metadata": {},
   "source": [
    "Boltzmann Generator\n",
    "-------"
   ]
  },
  {
   "cell_type": "code",
   "execution_count": 24,
   "metadata": {},
   "outputs": [],
   "source": [
    "def RNVP(shift_nhidden, scale_nhidden,\n",
    "         shift_activation=torch.nn.ReLU(), scale_activation=torch.nn.Tanh(), \n",
    "         shift_weight_scale=1.0, scale_weight_scale=1.0, \n",
    "         shift_bias_scale=0.0, scale_bias_scale=0.0, init_downscale=1.0):\n",
    "    \n",
    "    shift_transformation = None\n",
    "    if shift_nhidden is not None:\n",
    "        shift_transformation=DenseNet(shift_nhidden, activation=shift_activation, \n",
    "                                      weight_scale=shift_weight_scale, bias_scale=shift_bias_scale)            \n",
    "    scale_transformation = None\n",
    "    if scale_nhidden is not None:\n",
    "        scale_transformation=DenseNet(scale_nhidden, activation=scale_activation, \n",
    "                                      weight_scale=scale_weight_scale, bias_scale=scale_bias_scale)\n",
    "    transformer = AffineTransformer(shift_transformation=shift_transformation,\n",
    "                                    scale_transformation=scale_transformation,\n",
    "                                    init_downscale=init_downscale) \n",
    "    return CouplingFlow(transformer)"
   ]
  },
  {
   "cell_type": "code",
   "execution_count": 25,
   "metadata": {},
   "outputs": [],
   "source": [
    "class WrapLeft(Flow):\n",
    "    def __init__(self, leftflow):\n",
    "        super().__init__()\n",
    "        self.leftflow = leftflow\n",
    "\n",
    "    def _forward(self, x1, x2, **kwargs):\n",
    "        y1, dlogp = self.leftflow(x1)\n",
    "        return y1, x2, dlogp\n",
    "    \n",
    "    def _inverse(self, x1, x2, **kwargs):\n",
    "        y1, dlogp = self.leftflow(x1, inverse=True)\n",
    "        return y1, x2, dlogp\n"
   ]
  },
  {
   "cell_type": "code",
   "execution_count": 26,
   "metadata": {},
   "outputs": [],
   "source": [
    "def build_XV_RNVP_Metropolis(hamiltonian_prior, hamiltonian_target, molecular_energy, crd_transform, \n",
    "                            energy_model_0, energy_model_1,\n",
    "                            n_transform, shift_nhidden, scale_nhidden, dim_x, dim_ic,\n",
    "                            n_relax_z=10, stepsize_z=0.1, \n",
    "                            n_relax_x=50, stepsize_x=0.002, mass=1, gamma=10.0, kT=1.0, \n",
    "                            diffuse_at_0=False, diffuse_intermediate=True, diffuse_at_1=True):\n",
    "    # here we aggregate all layers of the flow\n",
    "    layers = []\n",
    "\n",
    "    # Initial Langevin flow\n",
    "    if diffuse_at_0:\n",
    "        layers.append(MetropolisMCFlow(hamiltonian_prior, nsteps=n_relax_z, stepsize=stepsize_z))\n",
    "    \n",
    "    # split\n",
    "    layers.append(SplitFlow(dim_ic))\n",
    "    \n",
    "    # RealNVP block\n",
    "    for i in range(n_transform):\n",
    "        # ic(x) -> v\n",
    "        layers.append(RNVP(shift_nhidden, scale_nhidden, \n",
    "                           shift_activation=torch.nn.ReLU(), scale_activation=torch.nn.ReLU()))\n",
    "        layers.append(SwapFlow())\n",
    "        # v -> ic(x)\n",
    "        layers.append(RNVP(shift_nhidden[::-1], scale_nhidden[::-1], \n",
    "                           shift_activation=torch.nn.ReLU(), scale_activation=torch.nn.ReLU()))\n",
    "        layers.append(SwapFlow())\n",
    "\n",
    "        # Langevin flow\n",
    "        if diffuse_intermediate:\n",
    "            # Merge, MC, Split\n",
    "            layers.append(MergeFlow(dim_ic))\n",
    "            \n",
    "            lambda_ = i * 1.0/(n_transform-1)\n",
    "            energy_model = InterpolatedEnergy(energy_model_0, energy_model_1, lambda_)\n",
    "            layers.append(MetropolisMCFlow(energy_model, nsteps=n_relax_z, stepsize=stepsize_z))\n",
    "            \n",
    "            layers.append(SplitFlow(dim_ic))\n",
    "        \n",
    "    # add crd transform\n",
    "    layers.append(WrapLeft(crd_transform))\n",
    "\n",
    "    # Final Langevin flow before merge\n",
    "    if diffuse_at_1:\n",
    "        layers.append(LangevinFlow(molecular_energy, nsteps=n_relax_x, stepsize=stepsize_x, \n",
    "                                   mass=mass, gamma=gamma, kT=kT))\n",
    "    \n",
    "    # merge\n",
    "    layers.append(MergeFlow(dim_x))\n",
    "    \n",
    "    # now define the flow as a sequence of all operations stored in layers\n",
    "    flexflow = SequentialFlow(layers)\n",
    "    bg = BoltzmannGenerator(hamiltonian_prior, flexflow, hamiltonian_target)\n",
    "    \n",
    "    return bg    "
   ]
  },
  {
   "cell_type": "code",
   "execution_count": 27,
   "metadata": {},
   "outputs": [],
   "source": [
    "dim_x = 66\n",
    "dim_v = 66\n",
    "dim_ic = 60"
   ]
  },
  {
   "cell_type": "code",
   "execution_count": 28,
   "metadata": {},
   "outputs": [],
   "source": [
    "# Reguarlize molecular energy\n",
    "ala2_energy_reg = RegularizedEnergy(ala2_omm_energy, high_energy=500, max_energy=10000)"
   ]
  },
  {
   "cell_type": "code",
   "execution_count": 29,
   "metadata": {},
   "outputs": [],
   "source": [
    "# Setup full prior and target distribution.\n",
    "hamiltonian_prior = NormalDistribution(dim_ic + dim_x)\n",
    "hamiltonian_target = AugmentedEnergy(ala2_energy_reg, dim_augment=dim_x)"
   ]
  },
  {
   "cell_type": "code",
   "execution_count": 30,
   "metadata": {},
   "outputs": [],
   "source": [
    "# Setup Stochastic Flow components\n",
    "energy_model_0 = hamiltonian_prior  # prior model is a Normal on the ICs only\n",
    "energy_model_1 = ICEnergy(mct, ala2_energy_reg, use_jacobian=False)  # posterior model is IC-transformed OpenMM energy."
   ]
  },
  {
   "cell_type": "code",
   "execution_count": 31,
   "metadata": {},
   "outputs": [],
   "source": [
    "bg = build_XV_RNVP_Metropolis(hamiltonian_prior, hamiltonian_target, ala2_energy_reg, mct, \n",
    "                              energy_model_0, energy_model_1,\n",
    "                              5, [dim_ic, 128, 128, 128, dim_v], [dim_ic, 128, 128, 128, dim_v], \n",
    "                              dim_x=dim_x, dim_ic=dim_ic,\n",
    "                              n_relax_z=20, stepsize_z=0.1, \n",
    "                              n_relax_x=20, stepsize_x=0.002, mass=1, gamma=10.0, kT=1.0, \n",
    "                              diffuse_at_0=False, diffuse_intermediate=True, diffuse_at_1=False)"
   ]
  },
  {
   "cell_type": "code",
   "execution_count": 32,
   "metadata": {},
   "outputs": [],
   "source": [
    "trainer = KLTrainer(bg, train_likelihood=True, train_energy=False,\n",
    "                    optim = torch.optim.Adam(bg.parameters(), lr=1e-3))"
   ]
  },
  {
   "cell_type": "code",
   "execution_count": 33,
   "metadata": {},
   "outputs": [],
   "source": [
    "batchsize = 128"
   ]
  },
  {
   "cell_type": "code",
   "execution_count": 34,
   "metadata": {},
   "outputs": [],
   "source": [
    "# add velocities, only 60 dimensions.\n",
    "xv_aligned = torch.cat([training_data, torch.zeros(training_data.shape[0], dim_x).normal_()], dim=1)"
   ]
  },
  {
   "cell_type": "code",
   "execution_count": 35,
   "metadata": {
    "scrolled": true
   },
   "outputs": [
    {
     "name": "stdout",
     "output_type": "stream",
     "text": [
      "1\tNLL: -48.4679\t\n",
      "21\tNLL: -51.5105\t\n",
      "41\tNLL: -52.0141\t\n",
      "61\tNLL: -53.1142\t\n",
      "81\tNLL: -54.4816\t\n",
      "101\tNLL: -54.9355\t\n",
      "121\tNLL: -54.5678\t\n",
      "141\tNLL: -54.5307\t\n",
      "161\tNLL: -54.0902\t\n",
      "181\tNLL: -53.5582\t\n",
      "201\tNLL: -53.9053\t\n",
      "221\tNLL: -53.6568\t\n",
      "241\tNLL: -53.6560\t\n",
      "261\tNLL: -54.2466\t\n",
      "281\tNLL: -53.6887\t\n",
      "301\tNLL: -54.0896\t\n",
      "321\tNLL: -54.2746\t\n",
      "341\tNLL: -53.7516\t\n",
      "361\tNLL: -57.5751\t\n",
      "381\tNLL: -54.1763\t\n",
      "401\tNLL: -52.9791\t\n",
      "421\tNLL: -54.1316\t\n",
      "441\tNLL: -56.0911\t\n",
      "461\tNLL: -53.3274\t\n",
      "481\tNLL: -55.8705\t\n",
      "501\tNLL: -53.0071\t\n",
      "521\tNLL: -55.3959\t\n",
      "541\tNLL: -56.9035\t\n",
      "561\tNLL: -55.4860\t\n",
      "581\tNLL: -53.9594\t\n",
      "601\tNLL: -55.3819\t\n",
      "621\tNLL: -54.9170\t\n",
      "641\tNLL: -55.2599\t\n",
      "661\tNLL: -55.5864\t\n",
      "681\tNLL: -56.4897\t\n",
      "701\tNLL: -54.8998\t\n",
      "721\tNLL: -54.2062\t\n",
      "741\tNLL: -56.4618\t\n",
      "761\tNLL: -54.6318\t\n",
      "781\tNLL: -56.6995\t\n",
      "801\tNLL: -55.7290\t\n",
      "821\tNLL: -55.9380\t\n",
      "841\tNLL: -54.1841\t\n",
      "861\tNLL: -55.2155\t\n",
      "881\tNLL: -54.7161\t\n",
      "901\tNLL: -55.6237\t\n",
      "921\tNLL: -56.3180\t\n",
      "941\tNLL: -55.9921\t\n",
      "961\tNLL: -56.2976\t\n",
      "981\tNLL: -55.3375\t\n"
     ]
    }
   ],
   "source": [
    "trainer.train(1000, data=xv_aligned, batchsize=batchsize, w_likelihood=1, w_energy=0, n_print=20)"
   ]
  },
  {
   "cell_type": "markdown",
   "metadata": {},
   "source": [
    "Evaluate\n",
    "----"
   ]
  },
  {
   "cell_type": "code",
   "execution_count": 37,
   "metadata": {},
   "outputs": [
    {
     "data": {
      "text/plain": [
       "Text(0.5,0,'Iterations')"
      ]
     },
     "execution_count": 37,
     "metadata": {},
     "output_type": "execute_result"
    },
    {
     "data": {
      "image/png": "[encoded data removed]",
      "text/plain": [
       "<matplotlib.figure.Figure at 0x6192fce80>"
      ]
     },
     "metadata": {},
     "output_type": "display_data"
    }
   ],
   "source": [
    "loss_names, x, ys = trainer.losses()\n",
    "plt.plot(x, ys[0])\n",
    "plt.ylabel(loss_names[0])\n",
    "plt.xlabel('Iterations')"
   ]
  },
  {
   "cell_type": "code",
   "execution_count": 38,
   "metadata": {},
   "outputs": [],
   "source": [
    "# sample\n",
    "n_samples = 10000\n",
    "z = hamiltonian_prior.sample(n_samples)\n",
    "xgen, dW = bg.flow(z, temperature=1.0)"
   ]
  },
  {
   "cell_type": "code",
   "execution_count": 39,
   "metadata": {},
   "outputs": [],
   "source": [
    "import mdtraj\n",
    "\n",
    "torsions_train = mdtraj.compute_dihedrals(training_data_traj, mct.Z_indices)\n",
    "\n",
    "gen_data_traj = mdtraj.Trajectory(xgen[:, :66].detach().reshape(-1, 22, 3).numpy(), ala2_pdb)\n",
    "torsions_gen = mdtraj.compute_dihedrals(gen_data_traj, mct.Z_indices)"
   ]
  },
  {
   "cell_type": "code",
   "execution_count": 40,
   "metadata": {},
   "outputs": [],
   "source": [
    "def periodic_convolution(x, kernel):\n",
    "    x_padded = np.concatenate([x, x, x])\n",
    "    y_padded = np.convolve(x_padded, kernel, mode='same')\n",
    "    return y_padded[x.size:-x.size]"
   ]
  },
  {
   "cell_type": "code",
   "execution_count": 41,
   "metadata": {},
   "outputs": [],
   "source": [
    "torsion_hists_train = []\n",
    "torsion_hists_gen = []\n",
    "xticks = None\n",
    "\n",
    "for i in range(torsions_train.shape[1]):\n",
    "    htrain, e = np.histogram(torsions_train[:, i], 50, range=(-np.pi, np.pi), density=True);\n",
    "    xticks = 0.5 * (e[1:] + e[:-1])\n",
    "    hgen, _ = np.histogram(torsions_gen[:, i], 50, range=(-np.pi, np.pi), density=True);\n",
    "    \n",
    "    htrain = periodic_convolution(htrain, [0.25, 0.5, 1.0, 0.5, 0.25])\n",
    "    hgen = periodic_convolution(hgen, [0.25, 0.5, 1.0, 0.5, 0.25])\n",
    "    \n",
    "    torsion_hists_train.append(htrain)\n",
    "    torsion_hists_gen.append(hgen)"
   ]
  },
  {
   "cell_type": "code",
   "execution_count": 42,
   "metadata": {},
   "outputs": [],
   "source": [
    "torsions_simple = [4, 5, 6, 7, 8]\n",
    "torsions_complex = [0, 1, 2, 10, 12]"
   ]
  },
  {
   "cell_type": "code",
   "execution_count": 43,
   "metadata": {},
   "outputs": [
    {
     "data": {
      "text/plain": [
       "Text(-2.84159,0.7,'RNVP + MCMC')"
      ]
     },
     "execution_count": 43,
     "metadata": {},
     "output_type": "execute_result"
    },
    {
     "data": {
      "image/png": "[encoded data removed]",
      "text/plain": [
       "<matplotlib.figure.Figure at 0x115d1e0f0>"
      ]
     },
     "metadata": {},
     "output_type": "display_data"
    }
   ],
   "source": [
    "#fig, axes = plt.subplots(nrows=2, ncols=5, sharex=True, figsize=(15, 5))\n",
    "fig, axes = plt.subplots(nrows=1, ncols=5, sharey=True, sharex=True, figsize=(15, 3))\n",
    "axes = axes.reshape((1, 5))\n",
    "fig.subplots_adjust(hspace=0.05, wspace=0.15)\n",
    "#for row, torsion_index in zip([0, 1], [torsions_simple, torsions_complex]):\n",
    "for row, torsion_index in zip([0], [torsions_complex]):\n",
    "    for i, ax in enumerate(axes[row]):\n",
    "        ax.plot(xticks, torsion_hists_train[torsion_index[i]], color='grey', linewidth=5)\n",
    "        ax.plot(xticks, torsion_hists_gen[torsion_index[i]], color='red', linewidth=3)\n",
    "        ax.set_yticks([])\n",
    "        ax.set_xlim(-np.pi, np.pi)\n",
    "        if row == 0:\n",
    "            ax.set_ylim(0, 5)\n",
    "        if row == 1:\n",
    "            ax.set_ylim(0, 1.5)\n",
    "        if row == 1:\n",
    "            ax.set_xticks((-np.pi,0, np.pi))\n",
    "            ax.set_xticklabels(('$-\\pi$', 0,'$\\pi$'))\n",
    "    axes[-1,-1].set_yticks([])\n",
    "axes[0, 0].set_ylim(0, 1.5)\n",
    "axes[0, 0].text(0, 1.35, '$\\phi$')\n",
    "axes[0, 1].text(0, 1.35, '$\\gamma_1$')\n",
    "axes[0, 2].text(0, 1.35, '$\\psi$')\n",
    "axes[0, 3].text(0, 1.35, '$\\gamma_2$')\n",
    "axes[0, 4].text(0, 1.35, '$\\gamma_3$')\n",
    "axes[0, 0].set_ylabel('density')\n",
    "#axes[1, 0].set_ylabel('density')\n",
    "axes[0, -1].text(-np.pi+0.3, 1.1, 'Target', color='grey')\n",
    "axes[0, -1].text(-np.pi+0.3, 0.7, 'RNVP + MCMC', color='red')"
   ]
  },
  {
   "cell_type": "code",
   "execution_count": 44,
   "metadata": {},
   "outputs": [
    {
     "name": "stdout",
     "output_type": "stream",
     "text": [
      "0.41\n",
      "0.20\n",
      "0.16\n",
      "0.08\n",
      "0.10\n"
     ]
    }
   ],
   "source": [
    "eps = 1e-5\n",
    "for i in torsions_complex:\n",
    "    KL_SNF = np.sum(torsion_hists_train[i] * np.log((torsion_hists_train[i]+eps) / (torsion_hists_gen[i]+eps)))\n",
    "    print(\"{:1.2f}\".format(KL_SNF))"
   ]
  },
  {
   "cell_type": "code",
   "execution_count": null,
   "metadata": {},
   "outputs": [],
   "source": []
  }
 ],
 "metadata": {
  "anaconda-cloud": {},
  "kernelspec": {
   "display_name": "Python 3",
   "language": "python",
   "name": "python3"
  },
  "language_info": {
   "codemirror_mode": {
    "name": "ipython",
    "version": 3
   },
   "file_extension": ".py",
   "mimetype": "text/x-python",
   "name": "python",
   "nbconvert_exporter": "python",
   "pygments_lexer": "ipython3",
   "version": "3.7.6"
  }
 },
 "nbformat": 4,
 "nbformat_minor": 2
}
